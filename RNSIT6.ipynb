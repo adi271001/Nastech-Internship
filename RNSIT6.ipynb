{
  "nbformat": 4,
  "nbformat_minor": 0,
  "metadata": {
    "colab": {
      "name": "RNSIT6.ipynb",
      "provenance": [],
      "collapsed_sections": [],
      "authorship_tag": "ABX9TyNc98cKPGu8x4XGDIK7intO",
      "include_colab_link": true
    },
    "kernelspec": {
      "name": "python3",
      "display_name": "Python 3"
    },
    "language_info": {
      "name": "python"
    }
  },
  "cells": [
    {
      "cell_type": "markdown",
      "metadata": {
        "id": "view-in-github",
        "colab_type": "text"
      },
      "source": [
        "<a href=\"https://colab.research.google.com/github/adi271001/Nastech-Internship/blob/main/RNSIT6.ipynb\" target=\"_parent\"><img src=\"https://colab.research.google.com/assets/colab-badge.svg\" alt=\"Open In Colab\"/></a>"
      ]
    },
    {
      "cell_type": "code",
      "execution_count": null,
      "metadata": {
        "id": "dEIxUiKG2TZA"
      },
      "outputs": [],
      "source": [
        "#import and read image\n",
        "import cv2\n",
        "img=cv2.imread('abc.jpg') #reading the image\n",
        "cv2.imshow('OUTPUT',img)\n",
        "cv2.waitKey(3000)  #3000 milliseconds and  then wait\n",
        "cv2.destroyAllWindows()"
      ]
    },
    {
      "cell_type": "code",
      "source": [
        "#solid BACKGROUND\n",
        "#create a white background using opencv and numoy\n",
        "import cv2\n",
        "import numpy as np\n",
        "img=np.ones((500,200,3))\n",
        "cv2.imshow('WHITE BACKGROUND',img)\n",
        "cv2.waitKey(0)\n",
        "cv2.destroyAllWindows()"
      ],
      "metadata": {
        "id": "LdLCZ1XL23ep"
      },
      "execution_count": null,
      "outputs": []
    },
    {
      "cell_type": "code",
      "source": [
        "#solid BACKGROUND\n",
        "#create a black background using opencv and numoy\n",
        "import cv2\n",
        "import numpy as np\n",
        "img=np.zeros((500,200,3))\n",
        "cv2.imshow('BLACK BACKGROUND',img)\n",
        "cv2.waitKey(0)\n",
        "cv2.destroyAllWindows()"
      ],
      "metadata": {
        "id": "XTEbgnfb7nkP"
      },
      "execution_count": null,
      "outputs": []
    },
    {
      "cell_type": "code",
      "source": [
        "#SOLID COLOR\n",
        "#RED COLOR\n",
        "import cv2\n",
        "import numpy as np\n",
        "img=np.zeros((250,250,3)) #black background\n",
        "img[:]=0,0,255 #assigning the color b g and r\n",
        "cv2.imshow('RED',img)\n",
        "cv2.waitKey(0)\n",
        "cv2.destroyAllWindows()"
      ],
      "metadata": {
        "id": "57VV0h_u9pr4"
      },
      "execution_count": null,
      "outputs": []
    },
    {
      "cell_type": "code",
      "source": [
        "#SOLID COLOR\n",
        "#GREEN COLOR\n",
        "import cv2\n",
        "import numpy as np\n",
        "img=np.zeros((250,250,3)) #black background\n",
        "img[:]=0,255,0 #assigning the color b g and r\n",
        "cv2.imshow('GREEN',img)\n",
        "cv2.waitKey(0)\n",
        "cv2.destroyAllWindows()"
      ],
      "metadata": {
        "id": "r6VzWDyc_ONN"
      },
      "execution_count": null,
      "outputs": []
    },
    {
      "cell_type": "code",
      "source": [
        "#SOLID COLOR\n",
        "#THREE COLOR\n",
        "import cv2\n",
        "import numpy as np\n",
        "img=np.zeros((250,250,3)) #black background\n",
        "img2=np.zeros((250,250,3)) #black background\n",
        "img3=np.zeros((250,250,3)) #black background\n",
        "img[:]=0,0,255 #assigning the color b g and r\n",
        "img[:]=0,255,0 #assigning the color b g and r\n",
        "img[:]=255,0,0 #assigning the color b g and rcv\n",
        "cv2.imshow('RED',img)\n",
        "cv2.imshow('GREEN',img2)\n",
        "cv2.imshow('BLUE',img3)\n",
        "cv2.waitKey(0)\n",
        "cv2.destroyAllWindows()"
      ],
      "metadata": {
        "id": "RMghOHX-_9zs"
      },
      "execution_count": null,
      "outputs": []
    },
    {
      "cell_type": "code",
      "source": [
        "#RGB EXTRACTION\n",
        "#RED TINTED IMAGE\n",
        "import cv2\n",
        "import numpy as np\n",
        "img=cv2.imread('abc.jpg') #reads our nessage\n",
        "B.G.R=cv2.split(img)\n",
        "zeros=np.zeros(img.shape[:2],dtype='uint8')#black background\n",
        "#uint8 unsigned int 8\n",
        "#(300,200,2) - 300,200\n",
        "cv2.imshow('RED',cv2.merge([zeros,zeros,R]))\n",
        "#cv2.merge merges red plane with black background\n",
        "cv2.waitKey(0)\n",
        "cv2.destroyAllWindows()"
      ],
      "metadata": {
        "id": "vVHXXOk6BYRj"
      },
      "execution_count": null,
      "outputs": []
    },
    {
      "cell_type": "code",
      "source": [
        "#RGB EXTRACTION\n",
        "#GREEN TINTED IMAGE\n",
        "import cv2\n",
        "import numpy as np\n",
        "img=cv2.imread('abc.jpg') #reads our nessage\n",
        "B,G,R=cv2.split(img)\n",
        "zeros=np.zeros(img.shape[:2],dtype='uint8')#black background\n",
        "#uint8 unsigned int 8\n",
        "#(300,200,2) - 300,200\n",
        "cv2.imshow('GREEN',cv2.merge([zeros,G,zeros]))\n",
        "#cv2.merge merges red plane with black background\n",
        "cv2.waitKey(0)\n",
        "cv2.destroyAllWindows()"
      ],
      "metadata": {
        "id": "4mP-73DBGVNX"
      },
      "execution_count": null,
      "outputs": []
    },
    {
      "cell_type": "code",
      "source": [
        "#RGB EXTRACTION\n",
        "#GREEN TINTED IMAGE\n",
        "import cv2\n",
        "import numpy as np\n",
        "img=cv2.imread('abc.jpg') #reads our nessage\n",
        "B,G,R=cv2.split(img)\n",
        "zeros=np.zeros(img.shape[:2],dtype='uint8')#black background\n",
        "#uint8 unsigned int 8\n",
        "#(300,200,2) - 300,200\n",
        "cv2.imshow('BLUE',cv2.merge([B,zeros,zeros]))\n",
        "#cv2.merge merges red plane with black background\n",
        "cv2.waitKey(0)\n",
        "cv2.destroyAllWindows()"
      ],
      "metadata": {
        "id": "r5wat6PeM-To"
      },
      "execution_count": null,
      "outputs": []
    },
    {
      "cell_type": "code",
      "source": [
        "#checker board\n",
        "import numpy as np\n",
        "import cv2\n",
        "img=np.zeros((300,300,3))\n",
        "#it is in form of[ycordinate and xcordinate]\n",
        "img[0:100,0:100]=255,255,255\n",
        "img[100:200,100:200]=255,255,255\n",
        "img[200:300,0:100]=255,255,255\n",
        "img[200:300,200:300]=255,255,255\n",
        "img[0:100,200:300]=255,255,255\n",
        "cv2.imshow('CHECKER BOARD',img)\n",
        "cv2.waitKey(0)\n",
        "cv2.destroyAllWindows()\n"
      ],
      "metadata": {
        "id": "HcGtpiqWNUYe"
      },
      "execution_count": null,
      "outputs": []
    },
    {
      "cell_type": "code",
      "source": [
        "#HSV FILTER - HUE,SATURATION AND VALUE\n",
        "import numpy as np\n",
        "import cv2\n",
        "img=cv2.imread('abc.jpg') #read image\n",
        "#Source and type of conversion\n",
        "img_hsv=cv2.cvtColor(img,cv2.COLOR_BGR2HSV)\n",
        "cv2.imshow('HSV FILTER',img_hsv) #display hsv format\n",
        "cv2.waitKey(0)\n",
        "cv2.destroyAllWindows()"
      ],
      "metadata": {
        "id": "QjFZuAPHRr5u"
      },
      "execution_count": null,
      "outputs": []
    },
    {
      "cell_type": "code",
      "source": [
        "#HSV FILTER - HUE,SATURATION AND VALUE\n",
        "import numpy as np\n",
        "import cv2\n",
        "img=cv2.imread('abc.jpg') #read image\n",
        "#Source and type of conversion\n",
        "img_hsv=cv2.cvtColor(img,cv2.COLOR_BGR2HSV)\n",
        "cv2.imshow('HSV FILTER',img_hsv) #display hsv format\n",
        "cv2.imshow('HUE FILTER',img_hsv[:,:,0]) #hue\n",
        "cv2.imshow('SATURATION',img_hsv[:,:,1]) #saturation\n",
        "cv2.imshow('VALUE',img_hsv[:,:,2]) #value\n",
        "cv2.waitKey(0)\n",
        "cv2.destroyAllWindows()"
      ],
      "metadata": {
        "id": "y6zOSLTaVf0g"
      },
      "execution_count": null,
      "outputs": []
    },
    {
      "cell_type": "code",
      "source": [
        "#edge detetcion -sobel,laplacian,canny\n",
        "import cv2\n",
        "img=cv2.imread('123.jpg',0) #0 to make it grayscale\n",
        "sobel_x=cv2.Sobel(img,cv2.CV_8U,dx=1,dy=0,ksize=-1)\n",
        "#img -img ref variable cv_8u is unsigned 8 bit pixel\n",
        "#dx xaxis value,dy- y axis value\n",
        "#ksize will define size of convolution\n",
        "sobel_y=cv2.Sobel(img,cv2.CV_8U,dx=0,dy=1,ksize=-1)\n",
        "cv2.imshow('SOBEL X',sobel_x)\n",
        "cv2.imshow('SOBEL_Y',sobel_y)\n",
        "cv2.waitKey(0)\n",
        "cv2.destroyAllWindows()\n"
      ],
      "metadata": {
        "id": "FikkoY1uXaQL"
      },
      "execution_count": null,
      "outputs": []
    },
    {
      "cell_type": "code",
      "source": [
        "#edge detetcion -sobel,laplacian,canny\n",
        "import cv2\n",
        "img=cv2.imread('123.jpg',0) #0 to make it grayscale\n",
        "sobel_x=cv2.Sobel(img,cv2.CV_8U,dx=1,dy=0,ksize=-1)\n",
        "#img -img ref variable cv_8u is unsigned 8 bit pixel\n",
        "#dx xaxis value,dy- y axis value\n",
        "#ksize will define size of convolution\n",
        "sobel_y=cv2.Sobel(img,cv2.CV_8U,dx=0,dy=1,ksize=-1)\n",
        "sobel_f=cv2.bitwise_or(sobel_x,sobel_y) #combines both sobel_x and sobel_y\n",
        "cv2.imshow('SOBEL X',sobel_x)\n",
        "cv2.imshow('SOBEL_Y',sobel_y)\n",
        "cv2.imshow('SOBEL IMAGE',sobel_f)\n",
        "cv2.waitKey(0)\n",
        "cv2.destroyAllWindows()"
      ],
      "metadata": {
        "id": "HYAUgA0scPR2"
      },
      "execution_count": null,
      "outputs": []
    },
    {
      "cell_type": "code",
      "source": [
        "#edge detetcion -sobel,laplacian,canny\n",
        "import cv2\n",
        "img=cv2.imread('rgs.jpg',0) #0 to make it grayscale\n",
        "sobel_x=cv2.Sobel(img,cv2.CV_8U,dx=1,dy=0,ksize=-1)\n",
        "#img -img ref variable cv_8u is unsigned 8 bit pixel\n",
        "#dx xaxis value,dy- y axis value\n",
        "#ksize will define size of convolution\n",
        "sobel_y=cv2.Sobel(img,cv2.CV_8U,dx=0,dy=1,ksize=-1)\n",
        "sobel_f=cv2.bitwise_or(sobel_x,sobel_y) #combines both sobel_x and sobel_y\n",
        "cv2.imshow('SOBEL X',sobel_x)\n",
        "cv2.imshow('SOBEL_Y',sobel_y)\n",
        "cv2.imshow('SOBEL IMAGE',sobel_f)\n",
        "canny=cv2.Canny(img,90,200)\n",
        "cv2.imshow('Canny Image',canny)\n",
        "laplacian=cv2.Laplacian(img,cv2.CV_8U)\n",
        "cv2.imshow('LAPLACIAN IMAGE',laplacian)\n",
        "cv2.waitKey(0)\n",
        "cv2.destroyAllWindows()\n"
      ],
      "metadata": {
        "id": "spWmpkREdkvg"
      },
      "execution_count": null,
      "outputs": []
    },
    {
      "cell_type": "code",
      "source": [
        "#print text in the background\n",
        "import cv2\n",
        "import numpy as np\n",
        "img=np.zeros((500,500,3)) # creates black\n",
        "name=input('ENTER THE TEXT')\n",
        "cv2.putText(img,name,(250,250),cv2.FONT_HERSHEY_TRIPLEX,2,(0,0,255),1)\n",
        "#Image,name var,position,font,fontsize,color,thickness\n",
        "cv2.imshow('Text',img)\n",
        "cv2.waitKey(0)\n",
        "cv2.destroyAllWindows()"
      ],
      "metadata": {
        "id": "4zMWKJ6rgPV0"
      },
      "execution_count": null,
      "outputs": []
    },
    {
      "cell_type": "code",
      "source": [
        "#CREATION OF RECTANGLE OR SQUARE\n",
        "import cv2\n",
        "import numpy as np \n",
        "img=np.zeros((900,900,3)) #black background\n",
        "cv2.rectangle(img,(200,200),(350,350),(0,255,0),5)\n",
        "#img,point1,point2,color,thickness\n",
        "cv2.imshow('Rectangle',img)\n",
        "cv2.waitKey(0)\n",
        "cv.destroyAllWindows()"
      ],
      "metadata": {
        "id": "DnOZF3T2i7em"
      },
      "execution_count": null,
      "outputs": []
    },
    {
      "cell_type": "code",
      "source": [
        "# SHOWING LIVE VIDEO FROM WEBCAM\n",
        "import cv2\n",
        "cap=cv2.VideoCapture(0)\n",
        "#0 takes the default laptop webcam'\n",
        "while True:\n",
        "  ret,frame,=cap.read() #read from the port\n",
        "  #ret and frame are 2 variables to be taken\n",
        "  #only the variable frame will be used\n",
        "  cv2.imshow('My Live sketch',frame)\n",
        "  if cv2.waitKey(1)==13: #the ASCII value for enter key is 13\n",
        "    break #whenever I press enter , my program terminates\n",
        "cap.release() #this is necessary to prevent corruption of webcam drive, release the port\n",
        "cv2.destroyAllWindows()\n"
      ],
      "metadata": {
        "id": "4scjfKnQyhpn"
      },
      "execution_count": null,
      "outputs": []
    },
    {
      "cell_type": "code",
      "source": [
        "#LIVE CANNY SKETCH\n",
        "import cv2\n",
        "cap=cv2.VideoCapture(0)\n",
        "while True:\n",
        "  ret,frame=cap.read()\n",
        "  canny=cv2.Canny(frame,20,150)\n",
        "  #20 and 150 are the thresh values for best videos\n",
        "  cv2.imshow('My Canny sketch',canny)\n",
        "  if cv2.waitKey(1)==13:\n",
        "    break\n",
        "cap.release()\n",
        "cv2.destroyAllWindows()"
      ],
      "metadata": {
        "id": "6GTQ_kog21e0"
      },
      "execution_count": null,
      "outputs": []
    },
    {
      "cell_type": "code",
      "source": [
        "#FACE RECOGNITION\n",
        "import cv2\n",
        "face_cascade=cv2.CascadeClassifier('haarcascade_frontalface_default.xml')\n",
        "img=cv2.imread('abc.jpg')\n",
        "gray=cv2.cvtColor(img,cv2.COLOR_BGR2GRAY)\n",
        "faces=face_cascade.detectMultiscale(gray,scaleFactor=1.1,minNeighbors=9)\n",
        "for x,y,w,h in faces: #to detect faces and put rectangle \n",
        "  img = cv2.rectangle(img,(x,y),(x+w,y+h),(0,0,255),5)\n",
        "  #img-var,x,w,x+w,y+h are rectangle points,(0,0,255) is color,5 is thickness\n",
        "cv2.imshow('Gray',img)\n",
        "cv2.waitKey(0)\n",
        "cv2.destroyAllWindows()"
      ],
      "metadata": {
        "id": "mKOuhkaQ-Zxy"
      },
      "execution_count": null,
      "outputs": []
    },
    {
      "cell_type": "code",
      "source": [
        "# 8x8 checker board\n",
        "# assignment\n",
        "import numpy as np\n",
        "import cv2\n",
        "img=np.zeros((800,800,3))\n",
        "#it is in form of[ycordinate and xcordinate]\n",
        "img[0:100,0:100]=255,255,255\n",
        "img[100:200,100:200]=255,255,255\n",
        "img[200:300,0:100]=255,255,255\n",
        "img[200:300,200:300]=255,255,255\n",
        "img[0:100,200:300]=255,255,255\n",
        "img[0:100,400:500]=255,255,255\n",
        "img[0:100,600:700]=255,255,255\n",
        "img[100:200,300:400]=255,255,255\n",
        "img[100:200,500:600]=255,255,255\n",
        "img[100:200,700:800]=255,255,255\n",
        "img[200:300,400:500]=255,255,255\n",
        "img[200:300,600:700]=255,255,255\n",
        "img[300:400,100:200]=255,255,255\n",
        "img[300:400,300:400]=255,255,255\n",
        "img[300:400,500:600]=255,255,255\n",
        "img[300:400,700:800]=255,255,255\n",
        "img[400:500,0:100]=255,255,255\n",
        "img[400:500,200:300]=255,255,255\n",
        "img[400:500,400:500]=255,255,255\n",
        "img[400:500,600:700]=255,255,255\n",
        "img[500:600,100:200]=255,255,255\n",
        "img[500:600,300:400]=255,255,255\n",
        "img[500:600,500:600]=255,255,255\n",
        "img[500:600,700:800]=255,255,255\n",
        "img[600:700,0:100]=255,255,255\n",
        "img[600:700,200:300]=255,255,255\n",
        "img[600:700,400:500]=255,255,255\n",
        "img[600:700,600:700]=255,255,255\n",
        "img[700:800,100:200]=255,255,255\n",
        "img[700:800,300:400]=255,255,255\n",
        "img[700:800,500:600]=255,255,255\n",
        "img[700:800,700:800]=255,255,255\n",
        "cv2.imshow('CHECKER BOARD',img)\n",
        "cv2.waitKey(0)\n",
        "cv2.destroyAllWindows()\n"
      ],
      "metadata": {
        "id": "0h7RwZXHIL4I"
      },
      "execution_count": null,
      "outputs": []
    }
  ]
}